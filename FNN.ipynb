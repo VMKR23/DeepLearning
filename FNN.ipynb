{
  "nbformat": 4,
  "nbformat_minor": 0,
  "metadata": {
    "colab": {
      "provenance": [],
      "authorship_tag": "ABX9TyNm3rX7Ka7W6PDGsvC6LN4N",
      "include_colab_link": true
    },
    "kernelspec": {
      "name": "python3",
      "display_name": "Python 3"
    },
    "language_info": {
      "name": "python"
    }
  },
  "cells": [
    {
      "cell_type": "markdown",
      "metadata": {
        "id": "view-in-github",
        "colab_type": "text"
      },
      "source": [
        "<a href=\"https://colab.research.google.com/github/VMKR23/DeepLearning/blob/main/FNN.ipynb\" target=\"_parent\"><img src=\"https://colab.research.google.com/assets/colab-badge.svg\" alt=\"Open In Colab\"/></a>"
      ]
    },
    {
      "cell_type": "code",
      "execution_count": 19,
      "metadata": {
        "colab": {
          "base_uri": "https://localhost:8080/",
          "height": 1000
        },
        "id": "y3S__xu6nfKI",
        "outputId": "6cf57882-2116-48ca-ed3e-9c9c2d6ad5a0"
      },
      "outputs": [
        {
          "output_type": "stream",
          "name": "stdout",
          "text": [
            "1 50 1.6432020158401683 1.5973084033290041\n",
            "2 50 1.5725144488470895 1.5182726081413558\n",
            "3 50 1.5043755777354941 1.5019666544998749\n",
            "4 50 1.4974968695183044 1.494934380808963\n",
            "5 50 1.4929346367240206 1.4906760242920887\n",
            "6 50 1.4919796411925033 1.4996369594260106\n",
            "7 50 1.49005542965586 1.4973601917677288\n",
            "8 50 1.4891240779779105 1.4960446418086184\n",
            "9 50 1.487150297744442 1.4913995341409612\n",
            "10 50 1.4897085491782311 1.4945967906638036\n",
            "11 50 1.4869627245961985 1.4925800275199022\n",
            "12 50 1.4864152659739513 1.4925712875173063\n",
            "13 50 1.4865337694123355 1.4908135178722912\n",
            "14 50 1.4868429327316122 1.4955369445342053\n",
            "15 50 1.4878158767594458 1.5010843865479095\n",
            "16 50 1.487339347918659 1.49142814738841\n",
            "17 50 1.4862315583584913 1.496633823913864\n",
            "18 50 1.487369384084429 1.5129863174655769\n",
            "19 50 1.488832697176984 1.493308740326121\n",
            "20 50 1.4881378773178882 1.493360338331778\n",
            "21 50 1.4879770799994723 1.4903679090210153\n",
            "22 50 1.4880282177345585 1.4920987569833104\n",
            "23 50 1.4885131959467808 1.4968916343737253\n",
            "24 50 1.488610398540619 1.4911025143876862\n",
            "25 50 1.4861707893261777 1.4898362733140778\n",
            "26 50 1.4872311452812732 1.492740706552433\n",
            "27 50 1.4873480522302167 1.491334297988988\n",
            "28 50 1.4861875947858734 1.4905556063108807\n",
            "29 50 1.4862833323000846 1.4937972132163713\n",
            "30 50 1.4884437907225034 1.4901118972633458\n",
            "31 50 1.4910701309948333 1.512744189817694\n",
            "32 50 1.4917863615031943 1.498297848278963\n",
            "33 50 1.4859227938438528 1.4982216312915464\n",
            "34 50 1.4867897900436986 1.4928534272350842\n",
            "35 50 1.486795234019314 1.4944712315933615\n",
            "36 50 1.489044288582385 1.4949155155616471\n",
            "37 50 1.4881351370292941 1.4947077262250683\n",
            "38 50 1.4889278239024473 1.4955425971670995\n",
            "39 50 1.4885438129083435 1.4903534862059582\n",
            "40 50 1.4886887637791095 1.4886923636062235\n",
            "41 50 1.486100671896294 1.4888948685006251\n",
            "42 50 1.4875286311737255 1.4942873127852814\n",
            "43 50 1.488014535354907 1.4926112362101107\n",
            "44 50 1.487525588159622 1.4917873068700862\n",
            "45 50 1.4890233580745869 1.4994751501686965\n",
            "46 50 1.4879133037920953 1.493263766735415\n",
            "47 50 1.485960500580924 1.4911505104620246\n",
            "48 50 1.4886419968818552 1.4915454372575012\n",
            "49 50 1.4861793411311819 1.4933705752408957\n",
            "50 50 1.4873938072464867 1.4902646058722386\n"
          ]
        },
        {
          "output_type": "display_data",
          "data": {
            "text/plain": [
              "<Figure size 432x288 with 1 Axes>"
            ],
            "image/png": "[encoded data removed]"
          },
          "metadata": {
            "needs_background": "light"
          }
        }
      ],
      "source": [
        "import torch\n",
        "import torch.nn as nn\n",
        "import torch.optim as optim\n",
        "import torchvision.datasets as datasets\n",
        "import torchvision.transforms as transforms\n",
        "import matplotlib.pyplot as plt\n",
        "\n",
        "class Feed_Forward_Networks(nn.Module):\n",
        "    def __init__(self):\n",
        "        super(Feed_Forward_Networks, self).__init__()\n",
        "        self.Fullyconnectedlayer1 = nn.Linear(784, 256)\n",
        "        self.RectifiedLinearUnit1 = nn.ReLU()\n",
        "        self.Fullyconnectedlayer2 = nn.Linear(256, 128)\n",
        "        self.RectifiedLinearUnit2 = nn.ReLU()\n",
        "        self.Fullyconnectedlayer3 = nn.Linear(128, 10)\n",
        "        self.softmax = nn.Softmax(dim=1)\n",
        "\n",
        "    def forward(self, mp):\n",
        "        mp = mp.view(-1, 784)\n",
        "        mp = self.RectifiedLinearUnit1(self.Fullyconnectedlayer1(mp))\n",
        "        mp = self.RectifiedLinearUnit2(self.Fullyconnectedlayer2(mp))\n",
        "        mp = self.softmax(self.Fullyconnectedlayer3(mp))\n",
        "        return mp\n",
        "train_dataset = datasets.MNIST(root='dataset/', train=True, transform=transforms.ToTensor(), download=True)\n",
        "test_dataset = datasets.MNIST(root='dataset/', train=False, transform=transforms.ToTensor(), download=True)\n",
        "train_ld = torch.utils.data.DataLoader(dataset=train_dataset, batch_size=128, shuffle=True)\n",
        "test_ld = torch.utils.data.DataLoader(dataset=test_dataset, batch_size=128, shuffle=False)\n",
        "model = Feed_Forward_Networks()\n",
        "optim1 = optim.Adam(model.parameters(), lr=0.003)\n",
        "criterion = nn.CrossEntropyLoss()\n",
        "n = 50\n",
        "loss_1es = []\n",
        "test_losses = []\n",
        "m=0\n",
        "while m<n:\n",
        "    loss_1 = 0.0\n",
        "    for i, (imgs, lbls) in enumerate(train_ld):\n",
        "        outputs = model(imgs)\n",
        "        loss = criterion(outputs, lbls)\n",
        "        optim1.zero_grad()\n",
        "        loss.backward()\n",
        "        optim1.step()\n",
        "        loss_1 = loss_1+ loss.item()\n",
        "    loss_1 = loss_1/len(train_ld)\n",
        "    loss_1es.append(loss_1)\n",
        "    test_loss = 0.0\n",
        "    with torch.no_grad():\n",
        "        for imgs, lbls in test_ld:\n",
        "            outputs = model(imgs)\n",
        "            loss = criterion(outputs, lbls)\n",
        "            test_loss = test_loss+loss.item()\n",
        "    test_loss = test_loss/len(test_ld)\n",
        "    test_losses.append(test_loss)\n",
        "    print(m+1, n, loss_1, test_loss)\n",
        "    m+=1\n",
        "plt.plot(loss_1es, label='Training Loss')\n",
        "plt.plot(test_losses, label='Test Loss')\n",
        "plt.xlabel('Training Iterations')\n",
        "plt.ylabel('Loss')\n",
        "plt.legend()\n",
        "plt.show()\n"
      ]
    },
    {
      "cell_type": "code",
      "source": [],
      "metadata": {
        "id": "s0U5J1WI9RaQ"
      },
      "execution_count": null,
      "outputs": []
    }
  ]
}