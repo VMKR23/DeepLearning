{
  "nbformat": 4,
  "nbformat_minor": 0,
  "metadata": {
    "colab": {
      "provenance": [],
      "authorship_tag": "ABX9TyOSB75oWba3vJvaO+esRGXy",
      "include_colab_link": true
    },
    "kernelspec": {
      "name": "python3",
      "display_name": "Python 3"
    },
    "language_info": {
      "name": "python"
    }
  },
  "cells": [
    {
      "cell_type": "markdown",
      "metadata": {
        "id": "view-in-github",
        "colab_type": "text"
      },
      "source": [
        "<a href=\"https://colab.research.google.com/github/VMKR23/DeepLearning/blob/main/FNN.ipynb\" target=\"_parent\"><img src=\"https://colab.research.google.com/assets/colab-badge.svg\" alt=\"Open In Colab\"/></a>"
      ]
    },
    {
      "cell_type": "code",
      "execution_count": 18,
      "metadata": {
        "colab": {
          "base_uri": "https://localhost:8080/",
          "height": 1000
        },
        "id": "y3S__xu6nfKI",
        "outputId": "439361f7-de07-4f25-9b74-740193ce4603"
      },
      "outputs": [
        {
          "output_type": "stream",
          "name": "stdout",
          "text": [
            "1 50 1.6108803078055636 1.5303836200810685\n",
            "2 50 1.5150533477380586 1.5079726282554338\n",
            "3 50 1.50300017755423 1.5043226676651194\n",
            "4 50 1.497137911792503 1.496902784214744\n",
            "5 50 1.4933297979806277 1.4998279794862\n",
            "6 50 1.4913568539914293 1.4959594614898102\n",
            "7 50 1.4909256737369465 1.49394790583019\n",
            "8 50 1.4893947740607678 1.4933611954314798\n",
            "9 50 1.4894539023767401 1.495445252973822\n",
            "10 50 1.4882086449340461 1.4919763848751406\n",
            "11 50 1.4869275184582547 1.4986414351040804\n",
            "12 50 1.487885925815558 1.495917350431032\n",
            "13 50 1.4879214356957213 1.492931894109219\n",
            "14 50 1.488670585506252 1.4962733214414572\n",
            "15 50 1.4889537985645123 1.4940664798398562\n",
            "16 50 1.4886947191600353 1.4914634499368788\n",
            "17 50 1.4885217726611888 1.4927065628993361\n",
            "18 50 1.488206250326974 1.490656320052811\n",
            "19 50 1.4906068895417235 1.49346318878705\n",
            "20 50 1.4861676489620574 1.4905513177944134\n",
            "21 50 1.4863334706088882 1.4907375634471072\n",
            "22 50 1.4893782898815455 1.4939299414429483\n",
            "23 50 1.4871011029428511 1.496728773358502\n",
            "24 50 1.490874424672076 1.4995277244833451\n",
            "25 50 1.4864823902085391 1.499144270450254\n",
            "26 50 1.487131374731247 1.489861340462407\n",
            "27 50 1.4863392831420086 1.489375014848347\n",
            "28 50 1.490987418302849 1.4962736956680878\n",
            "29 50 1.488189030811985 1.4908670564241047\n",
            "30 50 1.48633322786929 1.4966052830973757\n",
            "31 50 1.4890403986485528 1.4965337243261216\n",
            "32 50 1.487840138518734 1.5039987217021893\n",
            "33 50 1.4905539501958818 1.498473052737079\n",
            "34 50 1.489677027598627 1.490606647503527\n",
            "35 50 1.4876945366991607 1.5117657848551302\n",
            "36 50 1.4885154141546058 1.5045749884617479\n",
            "37 50 1.4885151200711346 1.4912063924572136\n",
            "38 50 1.4884101988664313 1.4897115547445756\n",
            "39 50 1.4886935997619304 1.513724615302267\n",
            "40 50 1.4885108224364485 1.495044773138022\n",
            "41 50 1.4850121289173932 1.490580652333513\n",
            "42 50 1.4919667686226525 1.4933020766777327\n",
            "43 50 1.4865726306240188 1.4950180415865741\n",
            "44 50 1.4883083244884954 1.4956792819349072\n",
            "45 50 1.4878633009599471 1.4901244444183157\n",
            "46 50 1.4891520614054665 1.4952737983269027\n",
            "47 50 1.4868280241992682 1.4944075361082825\n",
            "48 50 1.4871310537049511 1.4956417159189153\n",
            "49 50 1.4857877729289821 1.493194813969769\n",
            "50 50 1.4862066098113558 1.4942550131037264\n"
          ]
        },
        {
          "output_type": "display_data",
          "data": {
            "text/plain": [
              "<Figure size 432x288 with 1 Axes>"
            ],
            "image/png": "[encoded data removed]"
          },
          "metadata": {
            "needs_background": "light"
          }
        }
      ],
      "source": [
        "import torch\n",
        "import torch.nn as nn\n",
        "import torch.optim as optim\n",
        "import torchvision.datasets as datasetsc\n",
        "import torchvision.transforms as transforms\n",
        "import matplotlib.pyplot as plt\n",
        "\n",
        "class Feed_Forward_Networks(nn.Module):\n",
        "    def __init__(self):\n",
        "        super(Feed_Forward_Networks, self).__init__()\n",
        "        self.Fullyconnectedlayer1 = nn.Linear(784, 256)\n",
        "        self.RectifiedLinearUnit1 = nn.ReLU()\n",
        "        self.Fullyconnectedlayer2 = nn.Linear(256, 128)\n",
        "        self.RectifiedLinearUnit2 = nn.ReLU()\n",
        "        self.Fullyconnectedlayer3 = nn.Linear(128, 10)\n",
        "        self.softmax = nn.Softmax(dim=1)\n",
        "\n",
        "    def forward(self, mp):\n",
        "        mp = mp.view(-1, 784)\n",
        "        mp = self.RectifiedLinearUnit1(self.Fullyconnectedlayer1(mp))\n",
        "        mp = self.RectifiedLinearUnit2(self.Fullyconnectedlayer2(mp))\n",
        "        mp = self.softmax(self.Fullyconnectedlayer3(mp))\n",
        "        return mp\n",
        "train_dataset = datasets.MNIST(root='dataset/', train=True, transform=transforms.ToTensor(), download=True)\n",
        "test_dataset = datasets.MNIST(root='dataset/', train=False, transform=transforms.ToTensor(), download=True)\n",
        "train_ld = torch.utils.data.DataLoader(dataset=train_dataset, batch_size=128, shuffle=True)\n",
        "test_ld = torch.utils.data.DataLoader(dataset=test_dataset, batch_size=128, shuffle=False)\n",
        "model = Feed_Forward_Networks()\n",
        "optim1 = optim.Adam(model.parameters(), lr=0.003)\n",
        "criterion = nn.CrossEntropyLoss()\n",
        "n = 50\n",
        "loss_1es = []\n",
        "test_losses = []\n",
        "m=0\n",
        "while m<n:\n",
        "    loss_1 = 0.0\n",
        "    for i, (imgs, lbls) in enumerate(train_ld):\n",
        "        outputs = model(imgs)\n",
        "        loss = criterion(outputs, lbls)\n",
        "        optim1.zero_grad()\n",
        "        loss.backward()\n",
        "        optim1.step()\n",
        "        loss_1 = loss_1+ loss.item()\n",
        "    loss_1 = loss_1/len(train_ld)\n",
        "    loss_1es.append(loss_1)\n",
        "    test_loss = 0.0\n",
        "    with torch.no_grad():\n",
        "        for imgs, lbls in test_ld:\n",
        "            outputs = model(imgs)\n",
        "            loss = criterion(outputs, lbls)\n",
        "            test_loss = test_loss+loss.item()\n",
        "    test_loss = test_loss/len(test_ld)\n",
        "    test_losses.append(test_loss)\n",
        "    print(m+1, n, loss_1, test_loss)\n",
        "    m+=1\n",
        "plt.plot(loss_1es, label='Training Loss')\n",
        "plt.plot(test_losses, label='Test Loss')\n",
        "plt.xlabel('Training Iterations')\n",
        "plt.ylabel('Loss')\n",
        "plt.legend()\n",
        "plt.show()\n"
      ]
    },
    {
      "cell_type": "code",
      "source": [],
      "metadata": {
        "id": "s0U5J1WI9RaQ"
      },
      "execution_count": null,
      "outputs": []
    }
  ]
}